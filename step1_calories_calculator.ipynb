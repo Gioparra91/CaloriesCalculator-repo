{
 "cells": [
  {
   "cell_type": "code",
   "execution_count": 5,
   "metadata": {},
   "outputs": [],
   "source": [
    "import numpy as np\n",
    "import pandas as pd\n",
    "import seaborn as sns\n",
    "import matplotlib.pyplot as plt"
   ]
  },
  {
   "cell_type": "code",
   "execution_count": 1,
   "metadata": {
    "scrolled": true
   },
   "outputs": [],
   "source": [
    "def how_many_calories_do_you_need(My_name,\n",
    "                                  Dataset,\n",
    "                                  Age=[range(2,100)],\n",
    "                                  Gender=['Male','Female'], \n",
    "                                  Activity=['Sedentary','Low Active','Active'],\n",
    "                                  Graph=True):\n",
    "    '''\n",
    "    My_name: a string\n",
    "    Dataset: from previous function..don't touch it\n",
    "    Age: number of years from 2 to 100;\n",
    "    Gender: 'Male' or 'Female';\n",
    "    Activity: 'Sedentary Level'=0, 'Low Active Level'=1, 'Active Level'=2;\n",
    "    Graph: Show graph or not.\n",
    "    '''\n",
    "    \n",
    "    # Setting Age\n",
    "    Age_range = None\n",
    "    if Age in range(2,4):\n",
    "        Age_range = ['2-3 years',0]\n",
    "    elif Age in range(4,6):\n",
    "            Age_range = ['4-5 years',1]\n",
    "    elif Age in range(6,8):\n",
    "            Age_range = ['6-7 years',2]\n",
    "    elif Age in range(8,10):\n",
    "            Age_range = ['8-9 years',3]\n",
    "    elif Age in range(10,12):\n",
    "            Age_range = ['10-11 years',4]\n",
    "    elif Age in range(12,14):\n",
    "            Age_range = ['12-13 years',5]\n",
    "    elif Age in range(14,17):\n",
    "            Age_range = ['14-16 years',6]\n",
    "    elif Age in range(17,19):\n",
    "            Age_range = ['17-18 years',7]\n",
    "    elif Age in range(19,31):\n",
    "            Age_range = ['19-30 years',8]\n",
    "    elif Age in range(31,51):\n",
    "            Age_range = ['31-50 years',9]\n",
    "    elif Age in range(51,71):\n",
    "            Age_range = ['51-70 years',10]\n",
    "    else:\n",
    "        Age_range = ['71+ years',11]\n",
    "    \n",
    "    #Setting Gender\n",
    "    df_gender = None\n",
    "    if Gender == 'Male':\n",
    "        df_gender = Dataset.iloc[:,:3]\n",
    "    else:\n",
    "        df_gender = Dataset.iloc[:,3:]\n",
    "\n",
    "    # Text in output\n",
    "    print('Hello %s, are you ready to become healthier? Welcome to the session. ' %(My_name)+\n",
    "          'If you are a %s, %s years old and %s,' %(Gender, Age, Activity)+'you need to eat '+\n",
    "          str(df_gender.loc[Age_range[0], str(Activity+' Level '+Gender)])+' kcal per day. '+\n",
    "          'Easy right!? look at the graph below. If you cant see it, set \"Graph\"=True. If you '+\n",
    "          'dont like graphs, just set \"Graph\"=False. ')\n",
    "\n",
    "    # Graphical output\n",
    "    if Graph:\n",
    "        for i in range(0,df_gender.shape[1]):\n",
    "            plt.plot(df_gender.iloc[:,i])\n",
    "            plt.legend(df_gender.columns)\n",
    "            plt.vlines(x=[Age_range[1]], \n",
    "                       ymin=df_gender.min(), \n",
    "                       ymax=df_gender.loc[Age_range[0],str(Activity+' Level '+Gender)], \n",
    "                       colors='red', alpha=0.5, linewidth=1, linestyle='--')\n",
    "            plt.xticks(rotation=45)\n",
    "            plt.tight_layout()\n",
    "            plt.grid()\n",
    "        plt.show()\n",
    "    \n",
    "    print('Dear '+My_name+', do you want to know how to get those kcal? Follow me.')\n",
    "        \n",
    "    return [My_name, df_gender, Age_range[0], Gender, Activity]"
   ]
  },
  {
   "cell_type": "code",
   "execution_count": null,
   "metadata": {},
   "outputs": [],
   "source": []
  }
 ],
 "metadata": {
  "kernelspec": {
   "display_name": "Python 3",
   "language": "python",
   "name": "python3"
  },
  "language_info": {
   "codemirror_mode": {
    "name": "ipython",
    "version": 3
   },
   "file_extension": ".py",
   "mimetype": "text/x-python",
   "name": "python",
   "nbconvert_exporter": "python",
   "pygments_lexer": "ipython3",
   "version": "3.6.8"
  }
 },
 "nbformat": 4,
 "nbformat_minor": 2
}
