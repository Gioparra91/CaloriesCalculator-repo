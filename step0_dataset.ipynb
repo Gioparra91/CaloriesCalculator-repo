{
 "cells": [
  {
   "cell_type": "code",
   "execution_count": 1,
   "metadata": {},
   "outputs": [],
   "source": [
    "# Build dataframe\n",
    "import pandas as pd\n",
    "\n",
    "def dataset_builtin():\n",
    "    '''\n",
    "    Non inputs required. The output is a Pandas dataset.\n",
    "    \n",
    "    Definitions:\n",
    "    Sedentary Level = 0-30 min activity per day\n",
    "    Low Active Level = 30-60 min activity per day\n",
    "    Active Level = 60+ min activity per day\n",
    "    '''\n",
    "\n",
    "    df_raw = {'Age' : ('2-3 years','4-5 years','6-7 years','8-9 years','10-11 years','12-13 years','14-16 years','17-18 years','19-30 years','31-50 years','51-70 years','71+ years'),\n",
    "           'Sedentary Level Male': (1100,1250,1400,1500,1700,1900,2300,2450,2500,2350,2150,2000),\n",
    "           'Low Active Level Male': (1350,1450,1600,1750,2000,2250,2700,2900,2700,2600,2350,2200),\n",
    "           'Active Level Male': (1500,1650,1800,2000,2300,2600,3100,3300,3000,2900,2650,2500),\n",
    "           'Sedentary Level Female': (1100,1200,1300,1400,1500,1700,1750,1750,1900,1800,1650,1550),\n",
    "           'Low Active Level Female': (1250,1350,1500,1600,1800,2000,2100,2100,2100,2000,1850,1750),\n",
    "           'Active Level Female': (1400,1500,1700,1850,2050,2250,2350,2400,2350,2250,2100,2000)}\n",
    "    df_kcal = pd.DataFrame(df_raw, index=df_raw['Age'])\n",
    "    df_kcal = df_kcal.iloc[:,1:]\n",
    "    return df_kcal"
   ]
  }
 ],
 "metadata": {
  "kernelspec": {
   "display_name": "Python 3",
   "language": "python",
   "name": "python3"
  },
  "language_info": {
   "codemirror_mode": {
    "name": "ipython",
    "version": 3
   },
   "file_extension": ".py",
   "mimetype": "text/x-python",
   "name": "python",
   "nbconvert_exporter": "python",
   "pygments_lexer": "ipython3",
   "version": "3.6.8"
  }
 },
 "nbformat": 4,
 "nbformat_minor": 2
}
