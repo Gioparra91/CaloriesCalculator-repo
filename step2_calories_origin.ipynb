{
 "cells": [
  {
   "cell_type": "code",
   "execution_count": 2,
   "metadata": {},
   "outputs": [],
   "source": [
    "import pandas as pd"
   ]
  },
  {
   "cell_type": "code",
   "execution_count": 1,
   "metadata": {},
   "outputs": [],
   "source": [
    "def where_do_you_get_the_calories_from(Age, Gender):\n",
    "\n",
    "    df_raw = {'Age' : ('2-3 years','4-5 years','6-7 years','8-9 years','10-11 years','12-13 years','14-16 years','17-18 years','19-30 years','31-50 years','51-70 years','71+ years'),\n",
    "              'Fruit Male':(4,5,5,6,6,6,8,8,9,9,7,7),\n",
    "              'Vegetables Male':(4,5,5,6,6,6,8,8,9,9,7,7),\n",
    "              'Grains Male':(3,4,4,6,6,6,7,7,8,8,7,7),\n",
    "              'Milk and alternatives Male':(2,2,2,3.5,3.5,3.5,3.5,3.5,2,2,3,3),\n",
    "              'Meat and alternatives Male':(1,1,1,1.5,1.5,1.5,3,3,3,3,3,3),\n",
    "\n",
    "              'Fruit Female':(4,5,5,6,6,6,7,7,7.5,7.5,7,7),\n",
    "              'Vegetables Female':(4,5,5,6,6,6,7,7,7.5,7.5,7,7),\n",
    "              'Grains Female':(3,4,4,6,6,6,6,6,6.5,6.5,6,6),\n",
    "              'Milk and alternatives Female':(2,2,2,3.5,3.5,3.5,3.5,3.5,2,2,3,3),\n",
    "              'Meat and alternatives Female':(1,1,1,1.5,1.5,1.5,2,2,2,2,3,3)}\n",
    "    df_origin = pd.DataFrame(df_raw, index=df_raw['Age'])\n",
    "    df_origin = df_origin.iloc[:,1:]\n",
    "    \n",
    "    # Alligning data to gender\n",
    "    df_gender = None\n",
    "    if Gender == 'Male':\n",
    "        df_gender = df_origin.iloc[:,:5]\n",
    "    else:\n",
    "        df_gender = df_origin.iloc[:,5:]\n",
    "    \n",
    "    print('This are the daily servings per category.')\n",
    "    print(df_gender.loc[Age],'\\n')\n",
    "    return df_gender.loc[Age]"
   ]
  },
  {
   "cell_type": "code",
   "execution_count": 1,
   "metadata": {},
   "outputs": [],
   "source": [
    "def example():\n",
    "    print('What is a serving anyways!? See the examples below.')\n",
    "    print('\\n**Fruit and vegetables**: 1 piece of fruit, half a cup of fruit juice, \\n'+\n",
    "          '\\thalf a cup of canned or frozen fruit or vegetables, 1 cup of leafy raw \\n'+\n",
    "          '\\tvegetables or salad.'+\n",
    "          '\\n**Grains**: Half a bagel, 1 slice of bread, half a tortilla, half a pitta, \\n'+\n",
    "          '\\thalf a cup of cooked couscous, rice or pasta, one ounce of cold cereal, \\n'+\n",
    "          '\\tthree-quarters of a cup of hot cereal.'+\n",
    "          '\\n**Milk and alternatives**: 1 cup milk, 1 cup of soy drink, three-quarters of \\n'+\n",
    "          '\\ta cup of yogurt, 1 and a half ounces of cheese.'+\n",
    "          '\\n**Meat and alternatives**: 2 and a half ounces of cooked fish, lean meat, \\n'+\n",
    "          '\\tpoultry or lean meat, 2 eggs, 2 tablespoons of peanut butter.')"
   ]
  },
  {
   "cell_type": "code",
   "execution_count": null,
   "metadata": {},
   "outputs": [],
   "source": []
  }
 ],
 "metadata": {
  "kernelspec": {
   "display_name": "Python 3",
   "language": "python",
   "name": "python3"
  },
  "language_info": {
   "codemirror_mode": {
    "name": "ipython",
    "version": 3
   },
   "file_extension": ".py",
   "mimetype": "text/x-python",
   "name": "python",
   "nbconvert_exporter": "python",
   "pygments_lexer": "ipython3",
   "version": "3.6.8"
  }
 },
 "nbformat": 4,
 "nbformat_minor": 2
}
